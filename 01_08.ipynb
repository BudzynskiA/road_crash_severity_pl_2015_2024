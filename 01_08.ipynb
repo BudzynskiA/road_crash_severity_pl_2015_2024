{
 "cells": [
  {
   "cell_type": "code",
   "execution_count": 1,
   "id": "eb979f45-57db-4b8b-940f-1f564f5c2774",
   "metadata": {},
   "outputs": [
    {
     "name": "stdout",
     "output_type": "stream",
     "text": [
      "Summary statistics for 'Distance to intersection':\n",
      "count    3.873140e+05\n",
      "mean     3.721740e+03\n",
      "std      6.633833e+05\n",
      "min      0.000000e+00\n",
      "25%      3.000000e+01\n",
      "50%      1.000000e+02\n",
      "75%      4.000000e+02\n",
      "max      2.024012e+08\n",
      "Name: Distance to intersection, dtype: float64\n",
      "\n",
      "Missing values: 6749903 (94.57%)\n"
     ]
    }
   ],
   "source": [
    "import pandas as pd\n",
    "\n",
    "# Load data from previous step\n",
    "df = pd.read_parquet(\"data_01_07.parquet\")\n",
    "\n",
    "# Basic info on 'Distance to intersection'\n",
    "distribution_summary = df[\"Distance to intersection\"].describe().round(2)\n",
    "missing_count = df[\"Distance to intersection\"].isna().sum()\n",
    "missing_percent = round((missing_count / len(df)) * 100, 2)\n",
    "\n",
    "print(\"Summary statistics for 'Distance to intersection':\")\n",
    "print(distribution_summary)\n",
    "print(f\"\\nMissing values: {missing_count} ({missing_percent}%)\")"
   ]
  },
  {
   "cell_type": "code",
   "execution_count": null,
   "id": "8b9deb49-f10b-41a7-b7ba-d80e942ce048",
   "metadata": {},
   "outputs": [],
   "source": []
  }
 ],
 "metadata": {
  "kernelspec": {
   "display_name": "Python [conda env:base] *",
   "language": "python",
   "name": "conda-base-py"
  },
  "language_info": {
   "codemirror_mode": {
    "name": "ipython",
    "version": 3
   },
   "file_extension": ".py",
   "mimetype": "text/x-python",
   "name": "python",
   "nbconvert_exporter": "python",
   "pygments_lexer": "ipython3",
   "version": "3.12.7"
  }
 },
 "nbformat": 4,
 "nbformat_minor": 5
}
