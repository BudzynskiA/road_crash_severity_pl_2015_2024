{
 "cells": [
  {
   "cell_type": "code",
   "execution_count": 2,
   "id": "4ef5bf4f-d19b-4814-850e-cec8b737b273",
   "metadata": {},
   "outputs": [
    {
     "name": "stdout",
     "output_type": "stream",
     "text": [
      "Data type: object\n",
      "Number of unique non-null values: 38711\n",
      "\n",
      "Sample unique values:\n",
      "['SZCZECIŃSKA' 'PLC LOTNIKÓW' '3MAJA' 'ŻELAZNA' 'GRZYBOWSKA'\n",
      " 'ARMII LUDOWEJ' 'SZEWSKA' 'BRODNICKA' 'KILIŃSKIEGO' 'LUDOMIRA RÓŻYCKIEGO'\n",
      " 'WYZWOLENIA' 'AL. JANA PAWŁA II' 'ARMII KRAJOWEJ' 'TADEUSZA KOŚCIUSZKI'\n",
      " 'PRYMASA TYSIACLECIA' 'MICKIEWICZA' 'CZUMY' 'OPATOWICKA' 'NALKIELSKA'\n",
      " 'LECHICKA']\n",
      "\n",
      "Missing values: 5349920\n",
      "Missing percentage: 74.96%\n"
     ]
    }
   ],
   "source": [
    "import pandas as pd\n",
    "\n",
    "# Load dataset from previous step\n",
    "df = pd.read_parquet(\"data_01_10.parquet\")\n",
    "\n",
    "# Define variable\n",
    "var = \"Intersection with street\"\n",
    "\n",
    "# Basic info\n",
    "print(\"Data type:\", df[var].dtype)\n",
    "print(\"Number of unique non-null values:\", df[var].nunique(dropna=True))\n",
    "\n",
    "print(\"\\nSample unique values:\")\n",
    "print(df[var].dropna().unique()[:20])\n",
    "\n",
    "missing_count = df[var].isna().sum()\n",
    "missing_percent = df[var].isna().mean() * 100\n",
    "\n",
    "print(f\"\\nMissing values: {missing_count}\")\n",
    "print(f\"Missing percentage: {missing_percent:.2f}%\")"
   ]
  },
  {
   "cell_type": "code",
   "execution_count": null,
   "id": "bf1fdf98-1ebf-4271-a0c7-905b1a240f53",
   "metadata": {},
   "outputs": [],
   "source": []
  }
 ],
 "metadata": {
  "kernelspec": {
   "display_name": "Python [conda env:base] *",
   "language": "python",
   "name": "conda-base-py"
  },
  "language_info": {
   "codemirror_mode": {
    "name": "ipython",
    "version": 3
   },
   "file_extension": ".py",
   "mimetype": "text/x-python",
   "name": "python",
   "nbconvert_exporter": "python",
   "pygments_lexer": "ipython3",
   "version": "3.12.7"
  }
 },
 "nbformat": 4,
 "nbformat_minor": 5
}
