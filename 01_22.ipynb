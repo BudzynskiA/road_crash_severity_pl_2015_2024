{
 "cells": [
  {
   "cell_type": "code",
   "execution_count": 1,
   "id": "da939111-ab6e-4dc4-bb45-8d5d22e7584a",
   "metadata": {},
   "outputs": [
    {
     "name": "stdout",
     "output_type": "stream",
     "text": [
      "Saved cleaned dataset to: data_01_22.parquet\n"
     ]
    }
   ],
   "source": [
    "import pandas as pd\n",
    "\n",
    "# Load cleaned column\n",
    "dob = pd.read_parquet(\"data_01_18.parquet\", columns=[\"Date of birth\"])\n",
    "dob_clean = pd.to_datetime(dob[\"Date of birth\"], format=\"%d.%m.%Y %H:%M\", errors=\"coerce\").dt.strftime(\"%Y-%m-%d\")\n",
    "dob_clean = dob_clean.astype(\"string\")\n",
    "\n",
    "# Load all other columns except 'Date of birth'\n",
    "all_columns = pd.read_parquet(\"data_01_18.parquet\", columns=None).columns.tolist()\n",
    "other_columns = [col for col in all_columns if col != \"Date of birth\"]\n",
    "df = pd.read_parquet(\"data_01_18.parquet\", columns=other_columns)\n",
    "\n",
    "# Attach cleaned column\n",
    "df[\"Date of birth\"] = dob_clean\n",
    "\n",
    "# Save full dataset\n",
    "df.to_parquet(\"data_01_22.parquet\", index=False)\n",
    "print(\"Saved cleaned dataset to: data_01_22.parquet\")"
   ]
  },
  {
   "cell_type": "code",
   "execution_count": 2,
   "id": "0e01d845-8b0d-4041-bfe6-757ba6087b06",
   "metadata": {},
   "outputs": [
    {
     "data": {
      "text/plain": [
       "0          1974-08-23\n",
       "1          1989-10-16\n",
       "2          1981-12-31\n",
       "3          1994-10-30\n",
       "4          1954-04-01\n",
       "              ...    \n",
       "7137212          <NA>\n",
       "7137213          <NA>\n",
       "7137214          <NA>\n",
       "7137215          <NA>\n",
       "7137216          <NA>\n",
       "Name: Date of birth, Length: 7137217, dtype: string"
      ]
     },
     "execution_count": 2,
     "metadata": {},
     "output_type": "execute_result"
    }
   ],
   "source": [
    "df[\"Date of birth\"]"
   ]
  },
  {
   "cell_type": "code",
   "execution_count": null,
   "id": "6402bc26-97ec-41cc-a28d-17e5f62b49e9",
   "metadata": {},
   "outputs": [],
   "source": []
  }
 ],
 "metadata": {
  "kernelspec": {
   "display_name": "Python [conda env:base] *",
   "language": "python",
   "name": "conda-base-py"
  },
  "language_info": {
   "codemirror_mode": {
    "name": "ipython",
    "version": 3
   },
   "file_extension": ".py",
   "mimetype": "text/x-python",
   "name": "python",
   "nbconvert_exporter": "python",
   "pygments_lexer": "ipython3",
   "version": "3.12.7"
  }
 },
 "nbformat": 4,
 "nbformat_minor": 5
}
