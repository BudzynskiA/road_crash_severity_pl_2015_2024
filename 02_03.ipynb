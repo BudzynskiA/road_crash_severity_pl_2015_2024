{
 "cells": [
  {
   "cell_type": "code",
   "execution_count": 1,
   "id": "9fded3b1-3f1a-46d9-8465-d202040809aa",
   "metadata": {},
   "outputs": [],
   "source": [
    "import pandas as pd\n",
    "\n",
    "df = pd.read_parquet(\"data_02_02.parquet\")"
   ]
  },
  {
   "cell_type": "code",
   "execution_count": 2,
   "id": "26b34dd3-1bcc-49da-a553-b1e86357563b",
   "metadata": {},
   "outputs": [
    {
     "name": "stdout",
     "output_type": "stream",
     "text": [
      "<class 'pandas.core.frame.DataFrame'>\n",
      "RangeIndex: 7137217 entries, 0 to 7137216\n",
      "Data columns (total 61 columns):\n",
      " #   Column                        Dtype         \n",
      "---  ------                        -----         \n",
      " 0   Event ID                      int64         \n",
      " 1   Vehicle ID                    float64       \n",
      " 2   Participant ID                int64         \n",
      " 3   Participant type              object        \n",
      " 4   Sex                           object        \n",
      " 5   Driving license status        object        \n",
      " 6   Years of driving experience   float64       \n",
      " 7   Legal resolution              object        \n",
      " 8   Killed                        object        \n",
      " 9   Injured                       object        \n",
      " 10  No safety equipment           object        \n",
      " 11  Seat position                 object        \n",
      " 12  Is at fault                   object        \n",
      " 13  Under influence               object        \n",
      " 14  Additional info               object        \n",
      " 15  Vehicle condition             object        \n",
      " 16  Vehicle brand                 object        \n",
      " 17  Vehicle model                 object        \n",
      " 18  Protective equipment present  object        \n",
      " 19  Special vehicles              object        \n",
      " 20  Production year               float64       \n",
      " 21  Last technical inspection     string        \n",
      " 22  Vehicle type                  object        \n",
      " 23  Event ID (KSIP)               object        \n",
      " 24  Date of event                 datetime64[ns]\n",
      " 25  County                        object        \n",
      " 26  Commune                       object        \n",
      " 27  Province                      object        \n",
      " 28  Town/city                     object        \n",
      " 29  Street                        object        \n",
      " 30  House number                  object        \n",
      " 31  Road number                   object        \n",
      " 32  Distance marker (KM/HM)       object        \n",
      " 33  Intersection name             object        \n",
      " 34  Intersection with street      object        \n",
      " 35  Intersection with road        object        \n",
      " 36  Distance to intersection      float64       \n",
      " 37  GPS x                         object        \n",
      " 38  GPS y                         object        \n",
      " 39  Accident type                 object        \n",
      " 40  Area type                     object        \n",
      " 41  Road geometry                 object        \n",
      " 42  Intersection                  object        \n",
      " 43  Crash site characteristics    object        \n",
      " 44  Lighting                      object        \n",
      " 45  Weather conditions            object        \n",
      " 46  Crash type                    object        \n",
      " 47  Speed limit                   float64       \n",
      " 48  Road type                     object        \n",
      " 49  Road surface                  object        \n",
      " 50  Road surface condition        object        \n",
      " 51  Traffic signal                object        \n",
      " 52  Road markings                 object        \n",
      " 53  Other causes                  object        \n",
      " 54  Date of birth                 string        \n",
      " 55  Injury severity               object        \n",
      " 56  Event date                    datetime64[ns]\n",
      " 57  Year                          float64       \n",
      " 58  Month                         float64       \n",
      " 59  Quarter                       period[Q-DEC] \n",
      " 60  Weekday                       float64       \n",
      "dtypes: datetime64[ns](2), float64(8), int64(2), object(46), period[Q-DEC](1), string(2)\n",
      "memory usage: 3.2+ GB\n"
     ]
    }
   ],
   "source": [
    "df.info()"
   ]
  },
  {
   "cell_type": "code",
   "execution_count": 3,
   "id": "384b7167-1471-46c8-93bf-cde9a33a9e74",
   "metadata": {},
   "outputs": [
    {
     "data": {
      "text/plain": [
       "Driving license status\n",
       "Posiada                      0.859728\n",
       "Nieokreślone (puste pole)    0.095804\n",
       "Nie wymagane                 0.025347\n",
       "Nie posiada                  0.019121\n",
       "Name: proportion, dtype: float64"
      ]
     },
     "execution_count": 3,
     "metadata": {},
     "output_type": "execute_result"
    }
   ],
   "source": [
    "# Preview distribution of the next feature to analyze (e.g., 'Driving license status')\n",
    "df['Driving license status'].value_counts(dropna=False, normalize=True)"
   ]
  },
  {
   "cell_type": "code",
   "execution_count": 4,
   "id": "48f94830-a94f-4fa9-a998-582561f1c037",
   "metadata": {},
   "outputs": [
    {
     "name": "stdout",
     "output_type": "stream",
     "text": [
      "Are the two date columns identical?: False\n",
      "Number of mismatches: 669066\n"
     ]
    },
    {
     "data": {
      "text/html": [
       "<div>\n",
       "<style scoped>\n",
       "    .dataframe tbody tr th:only-of-type {\n",
       "        vertical-align: middle;\n",
       "    }\n",
       "\n",
       "    .dataframe tbody tr th {\n",
       "        vertical-align: top;\n",
       "    }\n",
       "\n",
       "    .dataframe thead th {\n",
       "        text-align: right;\n",
       "    }\n",
       "</style>\n",
       "<table border=\"1\" class=\"dataframe\">\n",
       "  <thead>\n",
       "    <tr style=\"text-align: right;\">\n",
       "      <th></th>\n",
       "      <th>Date of event</th>\n",
       "      <th>Event date</th>\n",
       "    </tr>\n",
       "  </thead>\n",
       "  <tbody>\n",
       "    <tr>\n",
       "      <th>6467812</th>\n",
       "      <td>NaT</td>\n",
       "      <td>NaT</td>\n",
       "    </tr>\n",
       "  </tbody>\n",
       "</table>\n",
       "</div>"
      ],
      "text/plain": [
       "        Date of event Event date\n",
       "6467812           NaT        NaT"
      ]
     },
     "metadata": {},
     "output_type": "display_data"
    }
   ],
   "source": [
    "# Check whether the two date columns are identical\n",
    "are_equal = (df['Date of event'] == df['Event date']).all()\n",
    "print(\"Are the two date columns identical?:\", are_equal)\n",
    "\n",
    "# If they differ, display how many mismatches exist and show a sample\n",
    "if not are_equal:\n",
    "    mismatches = df[df['Date of event'] != df['Event date']]\n",
    "    print(\"Number of mismatches:\", len(mismatches))\n",
    "    display(mismatches[['Date of event', 'Event date']].drop_duplicates().head(10))\n",
    "\n"
   ]
  },
  {
   "cell_type": "code",
   "execution_count": 5,
   "id": "5af7db1e-7c45-42a6-b32a-f4983da82cf8",
   "metadata": {},
   "outputs": [
    {
     "name": "stdout",
     "output_type": "stream",
     "text": [
      "NaT in 'Date of event': 669066\n",
      "NaT in 'Event date': 669066\n",
      "Only 'Event date' is NaT: 0\n",
      "Only 'Date of event' is NaT: 0\n"
     ]
    }
   ],
   "source": [
    "# Count number of NaT in each column\n",
    "print(\"NaT in 'Date of event':\", df['Date of event'].isna().sum())\n",
    "print(\"NaT in 'Event date':\", df['Event date'].isna().sum())\n",
    "\n",
    "# Count where one is NaT but not both\n",
    "only_event_na = df['Event date'].isna() & df['Date of event'].notna()\n",
    "only_date_na = df['Date of event'].isna() & df['Event date'].notna()\n",
    "print(\"Only 'Event date' is NaT:\", only_event_na.sum())\n",
    "print(\"Only 'Date of event' is NaT:\", only_date_na.sum())\n"
   ]
  },
  {
   "cell_type": "code",
   "execution_count": 6,
   "id": "aa12f612-c80e-4e4b-824b-c3cb0d6a3af5",
   "metadata": {},
   "outputs": [],
   "source": [
    "# Drop redundant column\n",
    "df = df.drop(columns=['Event date'])\n"
   ]
  },
  {
   "cell_type": "code",
   "execution_count": 7,
   "id": "0e4e798e-f693-4af1-8845-59f14c612784",
   "metadata": {},
   "outputs": [],
   "source": [
    "df['Quarter'] = df['Quarter'].dt.quarter"
   ]
  },
  {
   "cell_type": "code",
   "execution_count": null,
   "id": "3888e492-d6c3-448a-8034-ed0903dbd190",
   "metadata": {},
   "outputs": [],
   "source": [
    "df.to_parquet(\"data_02_03.parquet\", index=False)\n"
   ]
  },
  {
   "cell_type": "code",
   "execution_count": null,
   "id": "242193e5-95bf-4baa-b483-8b1aff0f1c32",
   "metadata": {},
   "outputs": [],
   "source": []
  }
 ],
 "metadata": {
  "kernelspec": {
   "display_name": "Python [conda env:base] *",
   "language": "python",
   "name": "conda-base-py"
  },
  "language_info": {
   "codemirror_mode": {
    "name": "ipython",
    "version": 3
   },
   "file_extension": ".py",
   "mimetype": "text/x-python",
   "name": "python",
   "nbconvert_exporter": "python",
   "pygments_lexer": "ipython3",
   "version": "3.12.7"
  }
 },
 "nbformat": 4,
 "nbformat_minor": 5
}
