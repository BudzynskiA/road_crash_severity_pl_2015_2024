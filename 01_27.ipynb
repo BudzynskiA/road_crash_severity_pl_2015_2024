{
 "cells": [
  {
   "cell_type": "code",
   "execution_count": 2,
   "id": "03f9df39-bb03-488d-9793-80b166256f82",
   "metadata": {},
   "outputs": [
    {
     "name": "stdout",
     "output_type": "stream",
     "text": [
      "Data type: object\n",
      "Number of unique non-null values: 32\n",
      "\n",
      "Sample unique values:\n",
      "['Samochód osobowy' 'Autobus komunikacji publicznej' 'Motocykl'\n",
      " 'Nieustalony' 'Samochód ciężarowy do przewozu ładunków bez przyczepy'\n",
      " 'Samochód ciężarowy do przewozu ładunków z przyczepą' 'Rower'\n",
      " 'Pojazd uprzywilejowany' 'Inny pojazd' 'Autobus inny'\n",
      " 'Tramwaj, trolejbus' 'Motorower' 'Ciągnik rolniczy' 'Pociąg'\n",
      " 'Samochód ciężarowy do 3,5 T (od 11.2015)'\n",
      " 'Samochód ciężarowy Powyżej 3,5 T (od 11.2015)' 'Pojazd wolnobieżny'\n",
      " 'Pojazd przewożący materiały niebezpieczne'\n",
      " 'Czterokołowiec lekki (od 11.2015)' 'Motocykl inny (od 11.2015)']\n",
      "\n",
      "Missing values: 128918\n",
      "Missing percentage: 1.81%\n"
     ]
    }
   ],
   "source": [
    "import pandas as pd\n",
    "\n",
    "# Load only the column of interest\n",
    "var = \"Vehicle type\"\n",
    "df = pd.read_parquet(\"data_01_22.parquet\", columns=[var])\n",
    "\n",
    "# Basic info\n",
    "print(\"Data type:\", df[var].dtype)\n",
    "print(\"Number of unique non-null values:\", df[var].nunique(dropna=True))\n",
    "\n",
    "print(\"\\nSample unique values:\")\n",
    "print(df[var].dropna().unique()[:20])\n",
    "\n",
    "missing_count = df[var].isna().sum()\n",
    "missing_percent = df[var].isna().mean() * 100\n",
    "\n",
    "print(f\"\\nMissing values: {missing_count}\")\n",
    "print(f\"Missing percentage: {missing_percent:.2f}%\")"
   ]
  },
  {
   "cell_type": "code",
   "execution_count": null,
   "id": "56718b65-9822-4f78-944b-e8a0f4d8f312",
   "metadata": {},
   "outputs": [],
   "source": []
  }
 ],
 "metadata": {
  "kernelspec": {
   "display_name": "Python [conda env:base] *",
   "language": "python",
   "name": "conda-base-py"
  },
  "language_info": {
   "codemirror_mode": {
    "name": "ipython",
    "version": 3
   },
   "file_extension": ".py",
   "mimetype": "text/x-python",
   "name": "python",
   "nbconvert_exporter": "python",
   "pygments_lexer": "ipython3",
   "version": "3.12.7"
  }
 },
 "nbformat": 4,
 "nbformat_minor": 5
}
