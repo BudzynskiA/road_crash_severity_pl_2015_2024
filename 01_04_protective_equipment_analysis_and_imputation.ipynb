{
 "cells": [
  {
   "cell_type": "code",
   "execution_count": 1,
   "id": "53c68bc1-8968-403d-a428-9791fa60a669",
   "metadata": {},
   "outputs": [
    {
     "data": {
      "text/html": [
       "<div>\n",
       "<style scoped>\n",
       "    .dataframe tbody tr th:only-of-type {\n",
       "        vertical-align: middle;\n",
       "    }\n",
       "\n",
       "    .dataframe tbody tr th {\n",
       "        vertical-align: top;\n",
       "    }\n",
       "\n",
       "    .dataframe thead th {\n",
       "        text-align: right;\n",
       "    }\n",
       "</style>\n",
       "<table border=\"1\" class=\"dataframe\">\n",
       "  <thead>\n",
       "    <tr style=\"text-align: right;\">\n",
       "      <th></th>\n",
       "      <th>Value</th>\n",
       "      <th>Count</th>\n",
       "      <th>Percent</th>\n",
       "    </tr>\n",
       "  </thead>\n",
       "  <tbody>\n",
       "    <tr>\n",
       "      <th>0</th>\n",
       "      <td>None</td>\n",
       "      <td>7088778</td>\n",
       "      <td>99.32</td>\n",
       "    </tr>\n",
       "    <tr>\n",
       "      <th>1</th>\n",
       "      <td>T</td>\n",
       "      <td>39690</td>\n",
       "      <td>0.56</td>\n",
       "    </tr>\n",
       "    <tr>\n",
       "      <th>2</th>\n",
       "      <td>N</td>\n",
       "      <td>8749</td>\n",
       "      <td>0.12</td>\n",
       "    </tr>\n",
       "  </tbody>\n",
       "</table>\n",
       "</div>"
      ],
      "text/plain": [
       "  Value    Count  Percent\n",
       "0  None  7088778    99.32\n",
       "1     T    39690     0.56\n",
       "2     N     8749     0.12"
      ]
     },
     "execution_count": 1,
     "metadata": {},
     "output_type": "execute_result"
    }
   ],
   "source": [
    "import pandas as pd\n",
    "\n",
    "# Load data from previous step\n",
    "df = pd.read_parquet(\"data_01_03.parquet\")\n",
    "\n",
    "# Check distribution of values in 'Protective equipment present'\n",
    "distribution_table = df[\"Protective equipment present\"].value_counts(dropna=False).reset_index()\n",
    "distribution_table.columns = [\"Value\", \"Count\"]\n",
    "distribution_table[\"Percent\"] = (distribution_table[\"Count\"] / len(df) * 100).round(2)\n",
    "\n",
    "distribution_table"
   ]
  },
  {
   "cell_type": "code",
   "execution_count": 5,
   "id": "6c5295e2-cb07-46df-bc6f-7eb730e3afb5",
   "metadata": {},
   "outputs": [
    {
     "data": {
      "text/html": [
       "<div>\n",
       "<style scoped>\n",
       "    .dataframe tbody tr th:only-of-type {\n",
       "        vertical-align: middle;\n",
       "    }\n",
       "\n",
       "    .dataframe tbody tr th {\n",
       "        vertical-align: top;\n",
       "    }\n",
       "\n",
       "    .dataframe thead th {\n",
       "        text-align: right;\n",
       "    }\n",
       "</style>\n",
       "<table border=\"1\" class=\"dataframe\">\n",
       "  <thead>\n",
       "    <tr style=\"text-align: right;\">\n",
       "      <th></th>\n",
       "      <th>Value</th>\n",
       "      <th>Count</th>\n",
       "      <th>Percent</th>\n",
       "    </tr>\n",
       "  </thead>\n",
       "  <tbody>\n",
       "    <tr>\n",
       "      <th>0</th>\n",
       "      <td>unknown</td>\n",
       "      <td>7088778</td>\n",
       "      <td>99.32</td>\n",
       "    </tr>\n",
       "    <tr>\n",
       "      <th>1</th>\n",
       "      <td>yes</td>\n",
       "      <td>39690</td>\n",
       "      <td>0.56</td>\n",
       "    </tr>\n",
       "    <tr>\n",
       "      <th>2</th>\n",
       "      <td>no</td>\n",
       "      <td>8749</td>\n",
       "      <td>0.12</td>\n",
       "    </tr>\n",
       "  </tbody>\n",
       "</table>\n",
       "</div>"
      ],
      "text/plain": [
       "     Value    Count  Percent\n",
       "0  unknown  7088778    99.32\n",
       "1      yes    39690     0.56\n",
       "2       no     8749     0.12"
      ]
     },
     "execution_count": 5,
     "metadata": {},
     "output_type": "execute_result"
    }
   ],
   "source": [
    "# Impute missing values\n",
    "df[\"Protective equipment present\"] = df[\"Protective equipment present\"].fillna(\"unknown\")\n",
    "\n",
    "# Translate values\n",
    "df[\"Protective equipment present\"] = df[\"Protective equipment present\"].replace({\n",
    "    \"T\": \"yes\",\n",
    "    \"N\": \"no\"\n",
    "})\n",
    "\n",
    "# Save updated dataset\n",
    "df.to_parquet(\"data_01_04.parquet\", index=False)\n",
    "\n",
    "# Create updated distribution table\n",
    "distribution_table = df[\"Protective equipment present\"].value_counts().reset_index()\n",
    "distribution_table.columns = [\"Value\", \"Count\"]\n",
    "distribution_table[\"Percent\"] = (distribution_table[\"Count\"] / len(df) * 100).round(2)\n",
    "\n",
    "# Save table to Excel\n",
    "distribution_table.to_excel(\"protective_equipment_table.xlsx\", index=False)\n",
    "\n",
    "distribution_table\n"
   ]
  },
  {
   "cell_type": "code",
   "execution_count": null,
   "id": "6a1505f0-c57b-496e-92b6-965a88a95170",
   "metadata": {},
   "outputs": [],
   "source": []
  }
 ],
 "metadata": {
  "kernelspec": {
   "display_name": "Python [conda env:base] *",
   "language": "python",
   "name": "conda-base-py"
  },
  "language_info": {
   "codemirror_mode": {
    "name": "ipython",
    "version": 3
   },
   "file_extension": ".py",
   "mimetype": "text/x-python",
   "name": "python",
   "nbconvert_exporter": "python",
   "pygments_lexer": "ipython3",
   "version": "3.12.7"
  }
 },
 "nbformat": 4,
 "nbformat_minor": 5
}
