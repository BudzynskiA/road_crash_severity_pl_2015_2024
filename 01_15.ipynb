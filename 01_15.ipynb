{
 "cells": [
  {
   "cell_type": "code",
   "execution_count": 1,
   "id": "f0c80353-8e31-4a59-990a-ea27ab3c633c",
   "metadata": {},
   "outputs": [
    {
     "name": "stdout",
     "output_type": "stream",
     "text": [
      "Data type: object\n",
      "Number of unique non-null values: 3\n",
      "\n",
      "Sample unique values:\n",
      "['Z drogą z pierwsz.' 'O ruchu okrężnym' 'Równorzędne']\n",
      "\n",
      "Missing values: 5217858\n",
      "Missing percentage: 73.11%\n",
      "Saved file: data_01_14.parquet\n",
      "Saved table: 01_14_intersection_distribution.xlsx\n"
     ]
    }
   ],
   "source": [
    "import pandas as pd\n",
    "\n",
    "# Load dataset from previous step\n",
    "df = pd.read_parquet(\"data_01_10.parquet\")\n",
    "\n",
    "# Define the variable\n",
    "var = \"Intersection\"\n",
    "\n",
    "# Step 1: Basic info\n",
    "print(\"Data type:\", df[var].dtype)\n",
    "print(\"Number of unique non-null values:\", df[var].nunique(dropna=True))\n",
    "print(\"\\nSample unique values:\")\n",
    "print(df[var].dropna().unique()[:20])\n",
    "missing_count = df[var].isna().sum()\n",
    "missing_percent = df[var].isna().mean() * 100\n",
    "print(f\"\\nMissing values: {missing_count}\")\n",
    "print(f\"Missing percentage: {missing_percent:.2f}%\")\n",
    "\n",
    "# Step 2: Translate Polish values to English\n",
    "translation_dict = {\n",
    "    \"Z drogą z pierwsz.\": \"With priority road\",\n",
    "    \"O ruchu okrężnym\": \"Roundabout\",\n",
    "    \"Równorzędne\": \"Equal priority\"\n",
    "}\n",
    "df[var] = df[var].replace(translation_dict)\n",
    "\n",
    "# Step 3: Recalculate distribution table AFTER translation\n",
    "distribution_table = df[var].value_counts(dropna=False).reset_index()\n",
    "distribution_table.columns = [\"Value\", \"Count\"]\n",
    "distribution_table[\"Share [%]\"] = (distribution_table[\"Count\"] / len(df) * 100).round(2)\n",
    "\n",
    "# Step 4: Save updated full DataFrame to Parquet\n",
    "df.to_parquet(\"data_01_14.parquet\", index=False)\n",
    "print(\"Saved file: data_01_14.parquet\")\n",
    "\n",
    "# Step 5: Save updated distribution table to Excel\n",
    "distribution_table.to_excel(\"01_14_intersection_distribution.xlsx\", index=False)\n",
    "print(\"Saved table: 01_14_intersection_distribution.xlsx\")\n"
   ]
  },
  {
   "cell_type": "code",
   "execution_count": null,
   "id": "ac90a287-98bc-4ba5-9caf-2aa1b0c9bf2b",
   "metadata": {},
   "outputs": [],
   "source": []
  }
 ],
 "metadata": {
  "kernelspec": {
   "display_name": "Python [conda env:base] *",
   "language": "python",
   "name": "conda-base-py"
  },
  "language_info": {
   "codemirror_mode": {
    "name": "ipython",
    "version": 3
   },
   "file_extension": ".py",
   "mimetype": "text/x-python",
   "name": "python",
   "nbconvert_exporter": "python",
   "pygments_lexer": "ipython3",
   "version": "3.12.7"
  }
 },
 "nbformat": 4,
 "nbformat_minor": 5
}
