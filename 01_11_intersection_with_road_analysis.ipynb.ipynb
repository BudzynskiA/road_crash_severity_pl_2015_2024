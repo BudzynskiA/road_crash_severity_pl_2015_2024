{
 "cells": [
  {
   "cell_type": "code",
   "execution_count": 1,
   "id": "3a1cc792-ae50-4f06-8929-1a3c6d0109b7",
   "metadata": {},
   "outputs": [
    {
     "name": "stdout",
     "output_type": "stream",
     "text": [
      "Data type: object\n",
      "Number of unique non-null values: 47293\n",
      "\n",
      "Sample unique values:\n",
      "['G246137G' 'G105936D' 'P2664D' 'W935' '449' '92' 'P1653D' '1171E' 'I2'\n",
      " 'G105696D' 'P1955D' '1166E' 'G105779D' 'P' 'P3325C' 'G105167D' 'GMINNA'\n",
      " '395' 'P1663D' '1179E']\n",
      "\n",
      "Missing values: 5994610\n",
      "Missing percentage: 83.99%\n"
     ]
    }
   ],
   "source": [
    "import pandas as pd\n",
    "\n",
    "# Load the full dataset\n",
    "df = pd.read_parquet(\"data_01_10.parquet\")\n",
    "\n",
    "# Define the variable to analyze\n",
    "var = \"Intersection with road\"\n",
    "\n",
    "# Display basic info\n",
    "print(\"Data type:\", df[var].dtype)\n",
    "print(\"Number of unique non-null values:\", df[var].nunique(dropna=True))\n",
    "\n",
    "print(\"\\nSample unique values:\")\n",
    "print(df[var].dropna().unique()[:20])\n",
    "\n",
    "missing_count = df[var].isna().sum()\n",
    "missing_percent = df[var].isna().mean() * 100\n",
    "\n",
    "print(f\"\\nMissing values: {missing_count}\")\n",
    "print(f\"Missing percentage: {missing_percent:.2f}%\")"
   ]
  },
  {
   "cell_type": "code",
   "execution_count": null,
   "id": "23774785-87c9-4fea-9b0e-196617aa9686",
   "metadata": {},
   "outputs": [],
   "source": []
  }
 ],
 "metadata": {
  "kernelspec": {
   "display_name": "Python [conda env:base] *",
   "language": "python",
   "name": "conda-base-py"
  },
  "language_info": {
   "codemirror_mode": {
    "name": "ipython",
    "version": 3
   },
   "file_extension": ".py",
   "mimetype": "text/x-python",
   "name": "python",
   "nbconvert_exporter": "python",
   "pygments_lexer": "ipython3",
   "version": "3.12.7"
  }
 },
 "nbformat": 4,
 "nbformat_minor": 5
}
