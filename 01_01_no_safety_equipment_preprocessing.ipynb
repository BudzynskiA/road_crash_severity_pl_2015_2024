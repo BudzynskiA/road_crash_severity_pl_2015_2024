{
 "cells": [
  {
   "cell_type": "code",
   "execution_count": 1,
   "id": "694e6324-a602-42ae-8cd1-c886ba5bc66c",
   "metadata": {},
   "outputs": [],
   "source": [
    "import pandas as pd\n",
    "from IPython.display import display\n",
    "\n",
    "# Load data\n",
    "df = pd.read_parquet(\"data_01.parquet\")\n"
   ]
  },
  {
   "cell_type": "code",
   "execution_count": 4,
   "id": "1b468845-ea5d-4197-95b0-ef7bdb4a6560",
   "metadata": {},
   "outputs": [
    {
     "data": {
      "text/html": [
       "<div>\n",
       "<style scoped>\n",
       "    .dataframe tbody tr th:only-of-type {\n",
       "        vertical-align: middle;\n",
       "    }\n",
       "\n",
       "    .dataframe tbody tr th {\n",
       "        vertical-align: top;\n",
       "    }\n",
       "\n",
       "    .dataframe thead th {\n",
       "        text-align: right;\n",
       "    }\n",
       "</style>\n",
       "<table border=\"1\" class=\"dataframe\">\n",
       "  <thead>\n",
       "    <tr style=\"text-align: right;\">\n",
       "      <th></th>\n",
       "      <th>Value</th>\n",
       "      <th>Count</th>\n",
       "      <th>Percent</th>\n",
       "    </tr>\n",
       "  </thead>\n",
       "  <tbody>\n",
       "    <tr>\n",
       "      <th>0</th>\n",
       "      <td>none</td>\n",
       "      <td>7125825</td>\n",
       "      <td>99.84</td>\n",
       "    </tr>\n",
       "    <tr>\n",
       "      <th>1</th>\n",
       "      <td>seatbelt</td>\n",
       "      <td>7146</td>\n",
       "      <td>0.10</td>\n",
       "    </tr>\n",
       "    <tr>\n",
       "      <th>2</th>\n",
       "      <td>helmet</td>\n",
       "      <td>3559</td>\n",
       "      <td>0.05</td>\n",
       "    </tr>\n",
       "    <tr>\n",
       "      <th>3</th>\n",
       "      <td>child seat</td>\n",
       "      <td>675</td>\n",
       "      <td>0.01</td>\n",
       "    </tr>\n",
       "    <tr>\n",
       "      <th>4</th>\n",
       "      <td>child seat; seatbelt</td>\n",
       "      <td>12</td>\n",
       "      <td>0.00</td>\n",
       "    </tr>\n",
       "  </tbody>\n",
       "</table>\n",
       "</div>"
      ],
      "text/plain": [
       "                  Value    Count  Percent\n",
       "0                  none  7125825    99.84\n",
       "1              seatbelt     7146     0.10\n",
       "2                helmet     3559     0.05\n",
       "3            child seat      675     0.01\n",
       "4  child seat; seatbelt       12     0.00"
      ]
     },
     "metadata": {},
     "output_type": "display_data"
    }
   ],
   "source": [
    "# Step 1: Load the data\n",
    "df = pd.read_parquet(\"data_01.parquet\")\n",
    "\n",
    "# Step 2: Fill missing values with 'none'\n",
    "df[\"No safety equipment\"] = df[\"No safety equipment\"].fillna(\"none\")\n",
    "\n",
    "# Step 3: Translate unique values to English\n",
    "translation = {\n",
    "    \"Pasów\": \"seatbelt\",\n",
    "    \"Kasku\": \"helmet\",\n",
    "    \"Fotelika\": \"child seat\",\n",
    "    \"Hełmu\": \"helmet\",\n",
    "    \"Fotelika; Pasów\": \"child seat; seatbelt\",\n",
    "    \"none\": \"none\"\n",
    "}\n",
    "df[\"No safety equipment\"] = df[\"No safety equipment\"].map(translation)\n",
    "\n",
    "# Step 4: Create distribution table\n",
    "value_counts = df[\"No safety equipment\"].value_counts()\n",
    "value_percent = df[\"No safety equipment\"].value_counts(normalize=True) * 100\n",
    "\n",
    "distribution_table = pd.DataFrame({\n",
    "    \"Value\": value_counts.index,\n",
    "    \"Count\": value_counts.values,\n",
    "    \"Percent\": value_percent.round(2).values\n",
    "})\n",
    "\n",
    "# Step 5: Show table in notebook\n",
    "display(distribution_table)\n",
    "\n",
    "# Step 6: Save table and dataset\n",
    "distribution_table.to_excel(\"no_safety_equipment_table.xlsx\", index=False)\n",
    "df.to_parquet(\"data_01_01.parquet\", index=False)"
   ]
  },
  {
   "cell_type": "code",
   "execution_count": null,
   "id": "be6f9e8e-c46a-4296-ab3e-e7ce7ca115e0",
   "metadata": {},
   "outputs": [],
   "source": []
  }
 ],
 "metadata": {
  "kernelspec": {
   "display_name": "Python [conda env:base] *",
   "language": "python",
   "name": "conda-base-py"
  },
  "language_info": {
   "codemirror_mode": {
    "name": "ipython",
    "version": 3
   },
   "file_extension": ".py",
   "mimetype": "text/x-python",
   "name": "python",
   "nbconvert_exporter": "python",
   "pygments_lexer": "ipython3",
   "version": "3.12.7"
  }
 },
 "nbformat": 4,
 "nbformat_minor": 5
}
