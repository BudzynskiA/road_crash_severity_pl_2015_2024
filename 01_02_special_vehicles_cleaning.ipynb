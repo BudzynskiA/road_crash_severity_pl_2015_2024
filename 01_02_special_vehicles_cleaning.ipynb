{
 "cells": [
  {
   "cell_type": "code",
   "execution_count": 1,
   "id": "3815ca0f-dc34-4e73-930e-976b981bb40f",
   "metadata": {},
   "outputs": [
    {
     "name": "stdout",
     "output_type": "stream",
     "text": [
      "Special vehicles: 7120446 missing (99.77%)\n",
      "\n",
      "Value distribution before imputation:\n",
      "Special vehicles\n",
      "None                                                  7120446\n",
      "Pojazd uprzywilejowany Policji                           6450\n",
      "Pojazd uprzywilejowany inny                              4538\n",
      "Pojazd przewożący towary niebezpieczne                   2751\n",
      "Pojazd z kierownicą po prawej stronie                    1838\n",
      "Pojazd uprzywilejowany                                    384\n",
      "Pojazd uprzywilejowany Policja (od 11.2015)               358\n",
      "Pojazd uprzywilejowany inny (od 11.2015)                  191\n",
      "Pojazd z kierownicą po prawej stronie (od 11.2015)        184\n",
      "Pojazd przewożący towar niebezpieczny                      77\n",
      "Name: count, dtype: int64\n"
     ]
    }
   ],
   "source": [
    "import pandas as pd\n",
    "\n",
    "# Load previous dataset\n",
    "df = pd.read_parquet(\"data_01_01.parquet\")\n",
    "\n",
    "# Inspect missing values\n",
    "feature = \"Special vehicles\"\n",
    "missing_count = df[feature].isnull().sum()\n",
    "missing_percent = missing_count / len(df) * 100\n",
    "print(f\"{feature}: {missing_count} missing ({missing_percent:.2f}%)\")\n",
    "\n",
    "# Raw value distribution (including NaN)\n",
    "print(\"\\nValue distribution before imputation:\")\n",
    "print(df[feature].value_counts(dropna=False))"
   ]
  },
  {
   "cell_type": "code",
   "execution_count": 2,
   "id": "3e8c552f-7471-4bdd-ab2f-67b15515f6d6",
   "metadata": {},
   "outputs": [],
   "source": [
    "# Fill missing values with 'none'\n",
    "df[\"Special vehicles\"] = df[\"Special vehicles\"].fillna(\"none\")\n",
    "\n",
    "# Translate values into English\n",
    "translation = {\n",
    "    \"Pojazd uprzywilejowany Policji\": \"emergency vehicle - police\",\n",
    "    \"Pojazd uprzywilejowany inny\": \"emergency vehicle - other\",\n",
    "    \"Pojazd przewożący towary niebezpieczne\": \"hazardous materials vehicle\",\n",
    "    \"Pojazd z kierownicą po prawej stronie\": \"right-hand drive vehicle\",\n",
    "    \"Pojazd uprzywilejowany\": \"emergency vehicle\",\n",
    "    \"Pojazd uprzywilejowany Policja (od 11.2015)\": \"emergency vehicle - police\",\n",
    "    \"Pojazd uprzywilejowany inny (od 11.2015)\": \"emergency vehicle - other\",\n",
    "    \"Pojazd z kierownicą po prawej stronie (od 11.2015)\": \"right-hand drive vehicle\",\n",
    "    \"Pojazd przewożący towar niebezpieczny\": \"hazardous materials vehicle\",\n",
    "    \"none\": \"none\"\n",
    "}\n",
    "df[\"Special vehicles\"] = df[\"Special vehicles\"].map(translation)"
   ]
  },
  {
   "cell_type": "code",
   "execution_count": 3,
   "id": "e4160396-7d16-45d5-9118-075f013282fa",
   "metadata": {},
   "outputs": [
    {
     "data": {
      "text/html": [
       "<div>\n",
       "<style scoped>\n",
       "    .dataframe tbody tr th:only-of-type {\n",
       "        vertical-align: middle;\n",
       "    }\n",
       "\n",
       "    .dataframe tbody tr th {\n",
       "        vertical-align: top;\n",
       "    }\n",
       "\n",
       "    .dataframe thead th {\n",
       "        text-align: right;\n",
       "    }\n",
       "</style>\n",
       "<table border=\"1\" class=\"dataframe\">\n",
       "  <thead>\n",
       "    <tr style=\"text-align: right;\">\n",
       "      <th></th>\n",
       "      <th>Value</th>\n",
       "      <th>Count</th>\n",
       "      <th>Percent</th>\n",
       "    </tr>\n",
       "  </thead>\n",
       "  <tbody>\n",
       "    <tr>\n",
       "      <th>0</th>\n",
       "      <td>none</td>\n",
       "      <td>7120446</td>\n",
       "      <td>99.77</td>\n",
       "    </tr>\n",
       "    <tr>\n",
       "      <th>1</th>\n",
       "      <td>emergency vehicle - police</td>\n",
       "      <td>6808</td>\n",
       "      <td>0.10</td>\n",
       "    </tr>\n",
       "    <tr>\n",
       "      <th>2</th>\n",
       "      <td>emergency vehicle - other</td>\n",
       "      <td>4729</td>\n",
       "      <td>0.07</td>\n",
       "    </tr>\n",
       "    <tr>\n",
       "      <th>3</th>\n",
       "      <td>hazardous materials vehicle</td>\n",
       "      <td>2828</td>\n",
       "      <td>0.04</td>\n",
       "    </tr>\n",
       "    <tr>\n",
       "      <th>4</th>\n",
       "      <td>right-hand drive vehicle</td>\n",
       "      <td>2022</td>\n",
       "      <td>0.03</td>\n",
       "    </tr>\n",
       "    <tr>\n",
       "      <th>5</th>\n",
       "      <td>emergency vehicle</td>\n",
       "      <td>384</td>\n",
       "      <td>0.01</td>\n",
       "    </tr>\n",
       "  </tbody>\n",
       "</table>\n",
       "</div>"
      ],
      "text/plain": [
       "                         Value    Count  Percent\n",
       "0                         none  7120446    99.77\n",
       "1   emergency vehicle - police     6808     0.10\n",
       "2    emergency vehicle - other     4729     0.07\n",
       "3  hazardous materials vehicle     2828     0.04\n",
       "4     right-hand drive vehicle     2022     0.03\n",
       "5            emergency vehicle      384     0.01"
      ]
     },
     "metadata": {},
     "output_type": "display_data"
    }
   ],
   "source": [
    "from IPython.display import display\n",
    "\n",
    "# Create distribution table\n",
    "value_counts = df[\"Special vehicles\"].value_counts()\n",
    "value_percent = df[\"Special vehicles\"].value_counts(normalize=True) * 100\n",
    "\n",
    "distribution_table = pd.DataFrame({\n",
    "    \"Value\": value_counts.index,\n",
    "    \"Count\": value_counts.values,\n",
    "    \"Percent\": value_percent.round(2).values\n",
    "})\n",
    "\n",
    "# Show in notebook\n",
    "display(distribution_table)\n",
    "\n",
    "# Save results\n",
    "distribution_table.to_excel(\"special_vehicles_table.xlsx\", index=False)\n",
    "df.to_parquet(\"data_01_02.parquet\", index=False)"
   ]
  }
 ],
 "metadata": {
  "kernelspec": {
   "display_name": "Python [conda env:base] *",
   "language": "python",
   "name": "conda-base-py"
  },
  "language_info": {
   "codemirror_mode": {
    "name": "ipython",
    "version": 3
   },
   "file_extension": ".py",
   "mimetype": "text/x-python",
   "name": "python",
   "nbconvert_exporter": "python",
   "pygments_lexer": "ipython3",
   "version": "3.12.7"
  }
 },
 "nbformat": 4,
 "nbformat_minor": 5
}
