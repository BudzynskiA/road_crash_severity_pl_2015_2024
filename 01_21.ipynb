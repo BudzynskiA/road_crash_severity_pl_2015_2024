{
 "cells": [
  {
   "cell_type": "code",
   "execution_count": 1,
   "id": "652fca36-2b93-4d08-8e22-7592c16c34a5",
   "metadata": {},
   "outputs": [
    {
     "name": "stdout",
     "output_type": "stream",
     "text": [
      "Data type: object\n",
      "Number of unique non-null values: 3499244\n",
      "\n",
      "Sample unique values:\n",
      "['EWK-98382143A' 'EWK-98639094E' 'EWK-98705876T' 'EWK-98705898P'\n",
      " 'EWK-98705901N' 'EWK-98705908Y' 'EWK-98708230G' 'EWK-98708240K'\n",
      " 'EWK-98708244Y' 'EWK-98708254P' 'EWK-98708270A' 'EWK-98708278C'\n",
      " 'EWK-98708287L' 'EWK-98708301T' 'EWK-98708316W' 'EWK-98708319E'\n",
      " 'EWK-98708321Y' 'EWK-98708339R' 'EWK-98708347A' 'EWK-98708355T']\n",
      "\n",
      "Missing values: 669066\n",
      "Missing percentage: 9.37%\n"
     ]
    }
   ],
   "source": [
    "import pandas as pd\n",
    "\n",
    "# Load dataset from the previous step\n",
    "df = pd.read_parquet(\"data_01_18.parquet\")\n",
    "\n",
    "# Define variable\n",
    "var = \"Event ID (KSIP)\"\n",
    "\n",
    "# Display basic info\n",
    "print(\"Data type:\", df[var].dtype)\n",
    "print(\"Number of unique non-null values:\", df[var].nunique(dropna=True))\n",
    "\n",
    "print(\"\\nSample unique values:\")\n",
    "print(df[var].dropna().unique()[:20])\n",
    "\n",
    "missing_count = df[var].isna().sum()\n",
    "missing_percent = df[var].isna().mean() * 100\n",
    "\n",
    "print(f\"\\nMissing values: {missing_count}\")\n",
    "print(f\"Missing percentage: {missing_percent:.2f}%\")"
   ]
  },
  {
   "cell_type": "code",
   "execution_count": null,
   "id": "5f9f808d-13ab-4a10-a3de-7fbdabd43431",
   "metadata": {},
   "outputs": [],
   "source": []
  }
 ],
 "metadata": {
  "kernelspec": {
   "display_name": "Python [conda env:base] *",
   "language": "python",
   "name": "conda-base-py"
  },
  "language_info": {
   "codemirror_mode": {
    "name": "ipython",
    "version": 3
   },
   "file_extension": ".py",
   "mimetype": "text/x-python",
   "name": "python",
   "nbconvert_exporter": "python",
   "pygments_lexer": "ipython3",
   "version": "3.12.7"
  }
 },
 "nbformat": 4,
 "nbformat_minor": 5
}
