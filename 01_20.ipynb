{
 "cells": [
  {
   "cell_type": "code",
   "execution_count": 3,
   "id": "1fbb59dd-8aeb-49b3-9bd6-fb729e766a1a",
   "metadata": {},
   "outputs": [
    {
     "name": "stdout",
     "output_type": "stream",
     "text": [
      "Data type: object\n",
      "Number of unique non-null values: 76092\n",
      "\n",
      "Sample unique values:\n",
      "['GMINNA' 'P2075D' '5036Z' '5137Z' '5061Z' '521' 'P6212S' 'P3203S'\n",
      " 'G240056S' 'W793' 'P3204S' '3' 'P4719S' '3802W' '964' 'P' '2314C'\n",
      " 'P3232D' '336' 'P1284N']\n",
      "\n",
      "Missing values: 882607\n",
      "Missing percentage: 12.37%\n"
     ]
    }
   ],
   "source": [
    "import pandas as pd\n",
    "\n",
    "# Load dataset from the previous step\n",
    "df = pd.read_parquet(\"data_01_18.parquet\")\n",
    "\n",
    "# Define variable\n",
    "var = \"Road number\"\n",
    "\n",
    "# Display basic info\n",
    "print(\"Data type:\", df[var].dtype)\n",
    "print(\"Number of unique non-null values:\", df[var].nunique(dropna=True))\n",
    "\n",
    "print(\"\\nSample unique values:\")\n",
    "print(df[var].dropna().unique()[:20])\n",
    "\n",
    "missing_count = df[var].isna().sum()\n",
    "missing_percent = df[var].isna().mean() * 100\n",
    "\n",
    "print(f\"\\nMissing values: {missing_count}\")\n",
    "print(f\"Missing percentage: {missing_percent:.2f}%\")"
   ]
  },
  {
   "cell_type": "code",
   "execution_count": null,
   "id": "53cfef2b-1d26-43b0-a433-0bf98bdbc656",
   "metadata": {},
   "outputs": [],
   "source": []
  }
 ],
 "metadata": {
  "kernelspec": {
   "display_name": "Python [conda env:base] *",
   "language": "python",
   "name": "conda-base-py"
  },
  "language_info": {
   "codemirror_mode": {
    "name": "ipython",
    "version": 3
   },
   "file_extension": ".py",
   "mimetype": "text/x-python",
   "name": "python",
   "nbconvert_exporter": "python",
   "pygments_lexer": "ipython3",
   "version": "3.12.7"
  }
 },
 "nbformat": 4,
 "nbformat_minor": 5
}
