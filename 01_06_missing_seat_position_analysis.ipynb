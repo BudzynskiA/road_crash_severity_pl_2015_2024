{
 "cells": [
  {
   "cell_type": "code",
   "execution_count": 1,
   "id": "2181a414-7ddb-45b8-9c80-888b0636a29f",
   "metadata": {},
   "outputs": [
    {
     "data": {
      "text/html": [
       "<div>\n",
       "<style scoped>\n",
       "    .dataframe tbody tr th:only-of-type {\n",
       "        vertical-align: middle;\n",
       "    }\n",
       "\n",
       "    .dataframe tbody tr th {\n",
       "        vertical-align: top;\n",
       "    }\n",
       "\n",
       "    .dataframe thead th {\n",
       "        text-align: right;\n",
       "    }\n",
       "</style>\n",
       "<table border=\"1\" class=\"dataframe\">\n",
       "  <thead>\n",
       "    <tr style=\"text-align: right;\">\n",
       "      <th></th>\n",
       "      <th>Value</th>\n",
       "      <th>Count</th>\n",
       "      <th>Percent</th>\n",
       "    </tr>\n",
       "  </thead>\n",
       "  <tbody>\n",
       "    <tr>\n",
       "      <th>0</th>\n",
       "      <td>None</td>\n",
       "      <td>7039032</td>\n",
       "      <td>98.62</td>\n",
       "    </tr>\n",
       "    <tr>\n",
       "      <th>1</th>\n",
       "      <td>P</td>\n",
       "      <td>53252</td>\n",
       "      <td>0.75</td>\n",
       "    </tr>\n",
       "    <tr>\n",
       "      <th>2</th>\n",
       "      <td>T</td>\n",
       "      <td>44933</td>\n",
       "      <td>0.63</td>\n",
       "    </tr>\n",
       "  </tbody>\n",
       "</table>\n",
       "</div>"
      ],
      "text/plain": [
       "  Value    Count  Percent\n",
       "0  None  7039032    98.62\n",
       "1     P    53252     0.75\n",
       "2     T    44933     0.63"
      ]
     },
     "execution_count": 1,
     "metadata": {},
     "output_type": "execute_result"
    }
   ],
   "source": [
    "import pandas as pd\n",
    "\n",
    "# Load data from previous step\n",
    "df = pd.read_parquet(\"data_01_05.parquet\")\n",
    "\n",
    "# Check distribution of values in 'Seat position'\n",
    "distribution_table = df[\"Seat position\"].value_counts(dropna=False).reset_index()\n",
    "distribution_table.columns = [\"Value\", \"Count\"]\n",
    "distribution_table[\"Percent\"] = (distribution_table[\"Count\"] / len(df) * 100).round(2)\n",
    "\n",
    "distribution_table"
   ]
  },
  {
   "cell_type": "code",
   "execution_count": 3,
   "id": "1029b962-6876-4ed9-bec3-fceaa6df4852",
   "metadata": {},
   "outputs": [],
   "source": [
    "# Fill missing values\n",
    "df[\"Seat position\"] = df[\"Seat position\"].fillna(\"unknown\")\n",
    "\n",
    "# Save the updated data\n",
    "df.to_parquet(\"data_01_06.parquet\", index=False)"
   ]
  }
 ],
 "metadata": {
  "kernelspec": {
   "display_name": "Python [conda env:base] *",
   "language": "python",
   "name": "conda-base-py"
  },
  "language_info": {
   "codemirror_mode": {
    "name": "ipython",
    "version": 3
   },
   "file_extension": ".py",
   "mimetype": "text/x-python",
   "name": "python",
   "nbconvert_exporter": "python",
   "pygments_lexer": "ipython3",
   "version": "3.12.7"
  }
 },
 "nbformat": 4,
 "nbformat_minor": 5
}
