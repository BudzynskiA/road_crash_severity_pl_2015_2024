{
 "cells": [
  {
   "cell_type": "code",
   "execution_count": 1,
   "id": "c4a1344f-84ce-4629-b9a5-2251b52e4edd",
   "metadata": {},
   "outputs": [
    {
     "name": "stdout",
     "output_type": "stream",
     "text": [
      "Data type: object\n",
      "Number of unique non-null values: 12\n",
      "\n",
      "Sample unique values:\n",
      "['Odcinek prosty' 'Zakręt, łuk' 'Spadek' 'Odcinek prosty; Spadek'\n",
      " 'Odcinek prosty; Wzniesienie' 'Wzniesienie' 'Zakręt, łuk; Wzniesienie'\n",
      " 'Wierzchołek wzn.' 'Zakręt, łuk; Spadek'\n",
      " 'Odcinek prosty; Wierzchołek wzn.' 'Zakręt, łuk; Wierzchołek wzn.'\n",
      " 'Odcinek prosty; Zakręt, łuk']\n",
      "\n",
      "Missing values: 2012628\n",
      "Missing percentage: 28.20%\n"
     ]
    }
   ],
   "source": [
    "import pandas as pd\n",
    "\n",
    "# Load dataset from the previous step\n",
    "df = pd.read_parquet(\"data_01_16.parquet\")\n",
    "\n",
    "# Define variable\n",
    "var = \"Road geometry\"\n",
    "\n",
    "# Display basic info\n",
    "print(\"Data type:\", df[var].dtype)\n",
    "print(\"Number of unique non-null values:\", df[var].nunique(dropna=True))\n",
    "\n",
    "print(\"\\nSample unique values:\")\n",
    "print(df[var].dropna().unique()[:20])\n",
    "\n",
    "missing_count = df[var].isna().sum()\n",
    "missing_percent = df[var].isna().mean() * 100\n",
    "\n",
    "print(f\"\\nMissing values: {missing_count}\")\n",
    "print(f\"Missing percentage: {missing_percent:.2f}%\")"
   ]
  },
  {
   "cell_type": "code",
   "execution_count": 3,
   "id": "d3273f2c-d5b2-4d0f-9b96-9c3613629832",
   "metadata": {},
   "outputs": [],
   "source": [
    "translation_dict = {\n",
    "    \"Odcinek prosty\": \"Straight section\",\n",
    "    \"Zakręt, łuk\": \"Curve\",\n",
    "    \"Spadek\": \"Descent\",\n",
    "    \"Wzniesienie\": \"Ascent\",\n",
    "    \"Wierzchołek wzn.\": \"Crest\",\n",
    "    \"Odcinek prosty; Spadek\": \"Straight section; Descent\",\n",
    "    \"Odcinek prosty; Wzniesienie\": \"Straight section; Ascent\",\n",
    "    \"Zakręt, łuk; Wzniesienie\": \"Curve; Ascent\",\n",
    "    \"Zakręt, łuk; Spadek\": \"Curve; Descent\",\n",
    "    \"Odcinek prosty; Wierzchołek wzn.\": \"Straight section; Crest\",\n",
    "    \"Zakręt, łuk; Wierzchołek wzn.\": \"Curve; Crest\",\n",
    "    \"Odcinek prosty; Zakręt, łuk\": \"Straight section; Curve\"\n",
    "}\n"
   ]
  },
  {
   "cell_type": "code",
   "execution_count": 5,
   "id": "f05aedc1-b750-4c6f-88c5-d1d12a038c9d",
   "metadata": {},
   "outputs": [],
   "source": [
    "# Apply translation\n",
    "df[var] = df[var].replace(translation_dict)\n",
    "\n",
    "# Generate updated distribution table\n",
    "distribution_table = df[var].value_counts(dropna=False).reset_index()\n",
    "distribution_table.columns = [\"Value\", \"Count\"]\n",
    "distribution_table[\"Share [%]\"] = (distribution_table[\"Count\"] / len(df) * 100).round(2)\n",
    "\n",
    "distribution_table.to_excel(\"01_18_road_geometry_distribution.xlsx\", index=False)"
   ]
  },
  {
   "cell_type": "code",
   "execution_count": 7,
   "id": "8a23f6da-4ab8-404d-89b1-72beb5cfe992",
   "metadata": {},
   "outputs": [
    {
     "name": "stdout",
     "output_type": "stream",
     "text": [
      "Saved dataset: data_01_18.parquet\n"
     ]
    }
   ],
   "source": [
    "# Save updated DataFrame\n",
    "df.to_parquet(\"data_01_18.parquet\", index=False)\n",
    "print(\"Saved dataset: data_01_18.parquet\")"
   ]
  },
  {
   "cell_type": "code",
   "execution_count": null,
   "id": "dc29b909-5f4f-4943-8925-cca7afc618ff",
   "metadata": {},
   "outputs": [],
   "source": []
  }
 ],
 "metadata": {
  "kernelspec": {
   "display_name": "Python [conda env:base] *",
   "language": "python",
   "name": "conda-base-py"
  },
  "language_info": {
   "codemirror_mode": {
    "name": "ipython",
    "version": 3
   },
   "file_extension": ".py",
   "mimetype": "text/x-python",
   "name": "python",
   "nbconvert_exporter": "python",
   "pygments_lexer": "ipython3",
   "version": "3.12.7"
  }
 },
 "nbformat": 4,
 "nbformat_minor": 5
}
