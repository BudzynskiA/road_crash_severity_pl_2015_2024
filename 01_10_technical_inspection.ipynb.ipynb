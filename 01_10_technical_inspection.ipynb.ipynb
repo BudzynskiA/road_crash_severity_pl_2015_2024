{
 "cells": [
  {
   "cell_type": "code",
   "execution_count": 1,
   "id": "7da6ef7f-cc67-4eb8-b515-a49540534f62",
   "metadata": {},
   "outputs": [
    {
     "name": "stdout",
     "output_type": "stream",
     "text": [
      "Data type: object\n",
      "Number of unique non-null values: 6249\n",
      "\n",
      "Sample unique values:\n",
      "['09.08.2014 00:00' '10.07.2014 00:00' '22.12.2014 00:00'\n",
      " '30.09.2014 00:00' '10.10.2014 00:00' '29.01.2014 00:00'\n",
      " '27.09.2013 00:00' '12.03.2014 00:00' '04.04.2014 00:00'\n",
      " '13.12.2013 00:00' '26.09.2014 00:00' '03.11.2014 00:00'\n",
      " '06.04.2014 00:00' '14.06.2014 00:00' '31.05.2014 00:00'\n",
      " '21.02.2014 00:00' '04.12.2014 00:00' '09.09.2014 00:00'\n",
      " '08.08.2014 00:00' '24.12.2014 00:00']\n",
      "\n",
      "Missing values: 5611120\n",
      "Missing percentage: 78.62%\n"
     ]
    }
   ],
   "source": [
    "import pandas as pd\n",
    "\n",
    "# Load the full DataFrame\n",
    "df = pd.read_parquet(\"data_01_09.parquet\")\n",
    "\n",
    "# Define the variable to analyze\n",
    "var = \"Last technical inspection\"\n",
    "\n",
    "# Display basic information\n",
    "print(\"Data type:\", df[var].dtype)\n",
    "print(\"Number of unique non-null values:\", df[var].nunique(dropna=True))\n",
    "\n",
    "print(\"\\nSample unique values:\")\n",
    "print(df[var].dropna().unique()[:20])\n",
    "\n",
    "missing_count = df[var].isna().sum()\n",
    "missing_percent = df[var].isna().mean() * 100\n",
    "\n",
    "print(f\"\\nMissing values: {missing_count}\")\n",
    "print(f\"Missing percentage: {missing_percent:.2f}%\")"
   ]
  },
  {
   "cell_type": "code",
   "execution_count": 3,
   "id": "60f92465-e2c3-4852-95f3-74834aa11ec4",
   "metadata": {},
   "outputs": [
    {
     "name": "stdout",
     "output_type": "stream",
     "text": [
      "Final dtype: string\n",
      "Sample values: <StringArray>\n",
      "['2014-08-09', '2014-07-10', '2014-12-22', '2014-09-30', '2014-10-10',\n",
      " '2014-01-29', '2013-09-27', '2014-03-12', '2014-04-04', '2013-12-13']\n",
      "Length: 10, dtype: string\n"
     ]
    }
   ],
   "source": [
    "# Convert original string to datetime and extract date as string in 'YYYY-MM-DD' format\n",
    "df[var] = pd.to_datetime(df[var], format=\"%d.%m.%Y %H:%M\", errors=\"coerce\").dt.strftime(\"%Y-%m-%d\")\n",
    "\n",
    "# Convert to native string dtype (nullable pandas string)\n",
    "df[var] = df[var].astype(\"string\")\n",
    "\n",
    "# Preview\n",
    "print(\"Final dtype:\", df[var].dtype)\n",
    "print(\"Sample values:\", df[var].dropna().unique()[:10])"
   ]
  },
  {
   "cell_type": "code",
   "execution_count": 5,
   "id": "4f4244c8-64dd-496e-942c-39161bf8fa15",
   "metadata": {},
   "outputs": [],
   "source": [
    "df.to_parquet(\"data_01_10.parquet\", index=False)"
   ]
  },
  {
   "cell_type": "code",
   "execution_count": null,
   "id": "9417278d-d924-425b-95bb-54196db3666b",
   "metadata": {},
   "outputs": [],
   "source": []
  }
 ],
 "metadata": {
  "kernelspec": {
   "display_name": "Python [conda env:base] *",
   "language": "python",
   "name": "conda-base-py"
  },
  "language_info": {
   "codemirror_mode": {
    "name": "ipython",
    "version": 3
   },
   "file_extension": ".py",
   "mimetype": "text/x-python",
   "name": "python",
   "nbconvert_exporter": "python",
   "pygments_lexer": "ipython3",
   "version": "3.12.7"
  }
 },
 "nbformat": 4,
 "nbformat_minor": 5
}
