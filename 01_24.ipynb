{
 "cells": [
  {
   "cell_type": "code",
   "execution_count": 2,
   "id": "7f3d3f34-7566-4102-bc00-08eea4442835",
   "metadata": {},
   "outputs": [
    {
     "name": "stdout",
     "output_type": "stream",
     "text": [
      "Data type: object\n",
      "Number of unique non-null values: 7274\n",
      "\n",
      "Sample unique values:\n",
      "['NIEOKREŚLONY' 'ALTO' 'GOLF' 'URBINO 12' 'UNO' 'A3' '250'\n",
      " 'Nieokreślone (puste pole)' 'PASSAT' 'LAGUNA' 'VECTRA' 'CLIO'\n",
      " 'TRANSPORTER' '307' '206' 'SANDERO' 'ALMERA' 'C200' 'SHARAN' 'BORA']\n",
      "\n",
      "Missing values: 232407\n",
      "Missing percentage: 3.26%\n"
     ]
    }
   ],
   "source": [
    "import pandas as pd\n",
    "\n",
    "# Load only the column of interest\n",
    "var = \"Vehicle model\"\n",
    "df = pd.read_parquet(\"data_01_22.parquet\", columns=[var])\n",
    "\n",
    "# Display basic info\n",
    "print(\"Data type:\", df[var].dtype)\n",
    "print(\"Number of unique non-null values:\", df[var].nunique(dropna=True))\n",
    "\n",
    "print(\"\\nSample unique values:\")\n",
    "print(df[var].dropna().unique()[:20])\n",
    "\n",
    "missing_count = df[var].isna().sum()\n",
    "missing_percent = df[var].isna().mean() * 100\n",
    "\n",
    "print(f\"\\nMissing values: {missing_count}\")\n",
    "print(f\"Missing percentage: {missing_percent:.2f}%\")"
   ]
  },
  {
   "cell_type": "code",
   "execution_count": null,
   "id": "7d7d84ba-0a04-4b89-a8e4-7a6a947d6a0f",
   "metadata": {},
   "outputs": [],
   "source": []
  }
 ],
 "metadata": {
  "kernelspec": {
   "display_name": "Python [conda env:base] *",
   "language": "python",
   "name": "conda-base-py"
  },
  "language_info": {
   "codemirror_mode": {
    "name": "ipython",
    "version": 3
   },
   "file_extension": ".py",
   "mimetype": "text/x-python",
   "name": "python",
   "nbconvert_exporter": "python",
   "pygments_lexer": "ipython3",
   "version": "3.12.7"
  }
 },
 "nbformat": 4,
 "nbformat_minor": 5
}
