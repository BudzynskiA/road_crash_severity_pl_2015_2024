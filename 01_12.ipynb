{
 "cells": [
  {
   "cell_type": "code",
   "execution_count": 1,
   "id": "1df9bc77-c2d6-428d-8641-ee5d460ec952",
   "metadata": {},
   "outputs": [
    {
     "name": "stdout",
     "output_type": "stream",
     "text": [
      "Data type: object\n",
      "Number of unique non-null values: 7670\n",
      "\n",
      "Sample unique values:\n",
      "['12' '412,1' '53,4' '103,4' '28,3' '57,2' '30,6' '0,9' '2,1' '5' '0'\n",
      " '638,1' '23,5' '13,5' '89,1' '623,7' '569,7' '551,7' '118' '35,1']\n",
      "\n",
      "Missing values: 5528143\n",
      "Missing percentage: 77.46%\n"
     ]
    }
   ],
   "source": [
    "import pandas as pd\n",
    "\n",
    "# Load dataset from previous step\n",
    "df = pd.read_parquet(\"data_01_10.parquet\")\n",
    "\n",
    "# Define variable\n",
    "var = \"Distance marker (KM/HM)\"\n",
    "\n",
    "# Basic info\n",
    "print(\"Data type:\", df[var].dtype)\n",
    "print(\"Number of unique non-null values:\", df[var].nunique(dropna=True))\n",
    "\n",
    "print(\"\\nSample unique values:\")\n",
    "print(df[var].dropna().unique()[:20])\n",
    "\n",
    "missing_count = df[var].isna().sum()\n",
    "missing_percent = df[var].isna().mean() * 100\n",
    "\n",
    "print(f\"\\nMissing values: {missing_count}\")\n",
    "print(f\"Missing percentage: {missing_percent:.2f}%\")"
   ]
  },
  {
   "cell_type": "code",
   "execution_count": null,
   "id": "ef62df52-2c9b-4d8b-9825-d88208c51ef1",
   "metadata": {},
   "outputs": [],
   "source": []
  }
 ],
 "metadata": {
  "kernelspec": {
   "display_name": "Python [conda env:base] *",
   "language": "python",
   "name": "conda-base-py"
  },
  "language_info": {
   "codemirror_mode": {
    "name": "ipython",
    "version": 3
   },
   "file_extension": ".py",
   "mimetype": "text/x-python",
   "name": "python",
   "nbconvert_exporter": "python",
   "pygments_lexer": "ipython3",
   "version": "3.12.7"
  }
 },
 "nbformat": 4,
 "nbformat_minor": 5
}
